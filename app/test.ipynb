{
 "cells": [
  {
   "cell_type": "code",
   "execution_count": 2,
   "metadata": {},
   "outputs": [],
   "source": [
    "import pandas as pd\n",
    "import numpy as np\n",
    "\n",
    "import re\n",
    "import json\n",
    "import sqlite3\n",
    "import labels\n",
    "import extract_msg\n",
    "\n",
    "from model import SensitiveDataDetector\n",
    "from const import *"
   ]
  },
  {
   "cell_type": "code",
   "execution_count": 3,
   "metadata": {},
   "outputs": [],
   "source": [
    "labels_df = labels.load_labels()"
   ]
  },
  {
   "cell_type": "code",
   "execution_count": 4,
   "metadata": {},
   "outputs": [],
   "source": [
    "FORMAT = \"xlsx\"\n",
    "\n",
    "df_sens = labels_df[(labels_df[\"extension\"] == FORMAT) & (labels_df[\"sensitive\"] == True)]\n",
    "df_non_sens = labels_df[(labels_df[\"extension\"] == FORMAT) & (labels_df[\"sensitive\"] == False)]"
   ]
  },
  {
   "cell_type": "code",
   "execution_count": 5,
   "metadata": {},
   "outputs": [],
   "source": [
    "def regex_filter(string): \n",
    "    return {\n",
    "        \"email\": re.search(PATTERN_EMAIL, string) is not None, \n",
    "        \"iban\": re.search(PATTERN_IBAN, string) is not None, \n",
    "        \"rsa\": re.search(PATTERN_RSA, string) is not None\n",
    "    }"
   ]
  },
  {
   "cell_type": "code",
   "execution_count": 6,
   "metadata": {},
   "outputs": [],
   "source": [
    "def is_sensitive(filename): \n",
    "\n",
    "    loader = pd.read_csv if \".csv\" in filename else pd.read_excel\n",
    "    df = loader(filename, nrows = 20)\n",
    "\n",
    "    # Check 1: Has header\n",
    "    has_header = not any([not isinstance(col, str) for col in df.columns])\n",
    "    if has_header: # If there is a header\n",
    "\n",
    "        headers = df.columns\n",
    "        headers = [col.lower().strip() for col in df.columns]\n",
    "\n",
    "        if sum(sens in headers for sens in SENSITIVE_HEADERS) > 1: \n",
    "            # print(\"Check 1\", filename)\n",
    "            return True\n",
    "\n",
    "    # Check 2: Has email or IBAN\n",
    "\n",
    "    df_string = df.__str__()\n",
    "    regex = regex_filter(df_string)\n",
    "    has_email, has_iban = regex[\"email\"], regex[\"iban\"]\n",
    "\n",
    "    if has_email and not \"git@\" in df_string: # Only true if it isn't github email...\n",
    "        # print(\"Check 2 (MAIL)\", filename)\n",
    "        return  True \n",
    "    \n",
    "    if has_iban: \n",
    "        # print(\"Check 2 (IBAN)\", filename)\n",
    "        return True\n",
    "    \n",
    "    # Check 3: Has a sensitive token in it\n",
    "    if sum(sens in df_string for sens in SENSITIVE_TOKENS) > 1: \n",
    "        # print(\"Check 3\", filename)\n",
    "        return True\n",
    "\n",
    "    # print(filename)\n",
    "    return False"
   ]
  },
  {
   "cell_type": "code",
   "execution_count": 7,
   "metadata": {},
   "outputs": [
    {
     "data": {
      "text/plain": [
       "0.0"
      ]
     },
     "execution_count": 7,
     "metadata": {},
     "output_type": "execute_result"
    }
   ],
   "source": [
    "np.mean([is_sensitive(\"../files/sorted/\" + FORMAT + \"/\" + filename) for filename in df_sens[\"filename\"]])\n",
    "np.mean([is_sensitive(\"../files/sorted/\" + FORMAT + \"/\" + filename) for filename in df_non_sens[\"filename\"]])"
   ]
  },
  {
   "cell_type": "code",
   "execution_count": 8,
   "metadata": {},
   "outputs": [],
   "source": [
    "FORMAT = \"db\"\n",
    "\n",
    "df_sens = labels_df[(labels_df[\"extension\"] == FORMAT) & (labels_df[\"sensitive\"] == True)]\n",
    "df_non_sens = labels_df[(labels_df[\"extension\"] == FORMAT) & (labels_df[\"sensitive\"] == False)]"
   ]
  },
  {
   "cell_type": "code",
   "execution_count": 9,
   "metadata": {},
   "outputs": [],
   "source": [
    "def is_sensitive(filename, detector = None):\n",
    "\n",
    "    con = sqlite3.connect(filename)\n",
    "\n",
    "    table_names = pd.read_sql_query(\"SELECT name FROM sqlite_master WHERE type='table';\", con)\n",
    "    df = pd.read_sql('SELECT * FROM ' + table_names.loc[0][0], con)\n",
    "\n",
    "    header_sensitive = [col for col in df.columns if col in SENSITIVE_HEADERS]\n",
    "    df_sensitive = df[header_sensitive]\n",
    "\n",
    "    entries = ~(df_sensitive.apply(lambda x: isinstance(x, str) and x.strip() == '')) | (df_sensitive.isnull())\n",
    "    has_multiple_sensitive = any(entries.sum(axis=1) > 1)\n",
    "\n",
    "    return has_multiple_sensitive"
   ]
  },
  {
   "cell_type": "code",
   "execution_count": 10,
   "metadata": {},
   "outputs": [
    {
     "data": {
      "text/plain": [
       "1.0"
      ]
     },
     "execution_count": 10,
     "metadata": {},
     "output_type": "execute_result"
    }
   ],
   "source": [
    "np.mean([is_sensitive(\"../files/\" + filename) for filename in df_sens[\"filename\"]])\n",
    "np.mean([is_sensitive(\"../files/\" + filename) for filename in df_non_sens[\"filename\"]])"
   ]
  },
  {
   "cell_type": "code",
   "execution_count": 11,
   "metadata": {},
   "outputs": [],
   "source": [
    "FORMAT = \"weird\"\n",
    "\n",
    "df_sens = labels_df[(labels_df[\"extension\"] == FORMAT) & (labels_df[\"sensitive\"] == True)]\n",
    "df_non_sens = labels_df[(labels_df[\"extension\"] == FORMAT) & (labels_df[\"sensitive\"] == False)]"
   ]
  },
  {
   "cell_type": "code",
   "execution_count": 14,
   "metadata": {},
   "outputs": [
    {
     "data": {
      "text/html": [
       "<div>\n",
       "<style scoped>\n",
       "    .dataframe tbody tr th:only-of-type {\n",
       "        vertical-align: middle;\n",
       "    }\n",
       "\n",
       "    .dataframe tbody tr th {\n",
       "        vertical-align: top;\n",
       "    }\n",
       "\n",
       "    .dataframe thead th {\n",
       "        text-align: right;\n",
       "    }\n",
       "</style>\n",
       "<table border=\"1\" class=\"dataframe\">\n",
       "  <thead>\n",
       "    <tr style=\"text-align: right;\">\n",
       "      <th></th>\n",
       "      <th>filename</th>\n",
       "      <th>sensitive</th>\n",
       "      <th>name</th>\n",
       "      <th>extension</th>\n",
       "    </tr>\n",
       "  </thead>\n",
       "  <tbody>\n",
       "    <tr>\n",
       "      <th>16</th>\n",
       "      <td>time-rich-city-pattern-land-staff</td>\n",
       "      <td>True</td>\n",
       "      <td>time-rich-city-pattern-land-staff</td>\n",
       "      <td>weird</td>\n",
       "    </tr>\n",
       "    <tr>\n",
       "      <th>23</th>\n",
       "      <td>south-million-lead-billion-air</td>\n",
       "      <td>True</td>\n",
       "      <td>south-million-lead-billion-air</td>\n",
       "      <td>weird</td>\n",
       "    </tr>\n",
       "    <tr>\n",
       "      <th>27</th>\n",
       "      <td>summer-someone-cell-happy-around-red</td>\n",
       "      <td>True</td>\n",
       "      <td>summer-someone-cell-happy-around-red</td>\n",
       "      <td>weird</td>\n",
       "    </tr>\n",
       "    <tr>\n",
       "      <th>32</th>\n",
       "      <td>role-six-whole-single-enough-think</td>\n",
       "      <td>True</td>\n",
       "      <td>role-six-whole-single-enough-think</td>\n",
       "      <td>weird</td>\n",
       "    </tr>\n",
       "    <tr>\n",
       "      <th>34</th>\n",
       "      <td>necessary-receive-event</td>\n",
       "      <td>True</td>\n",
       "      <td>necessary-receive-event</td>\n",
       "      <td>weird</td>\n",
       "    </tr>\n",
       "    <tr>\n",
       "      <th>38</th>\n",
       "      <td>wait-business-must-we-just-yet</td>\n",
       "      <td>True</td>\n",
       "      <td>wait-business-must-we-just-yet</td>\n",
       "      <td>weird</td>\n",
       "    </tr>\n",
       "    <tr>\n",
       "      <th>414</th>\n",
       "      <td>such-prepare-song</td>\n",
       "      <td>True</td>\n",
       "      <td>such-prepare-song</td>\n",
       "      <td>weird</td>\n",
       "    </tr>\n",
       "    <tr>\n",
       "      <th>415</th>\n",
       "      <td>take-a-professor</td>\n",
       "      <td>True</td>\n",
       "      <td>take-a-professor</td>\n",
       "      <td>weird</td>\n",
       "    </tr>\n",
       "    <tr>\n",
       "      <th>420</th>\n",
       "      <td>themselves-agent</td>\n",
       "      <td>True</td>\n",
       "      <td>themselves-agent</td>\n",
       "      <td>weird</td>\n",
       "    </tr>\n",
       "  </tbody>\n",
       "</table>\n",
       "</div>"
      ],
      "text/plain": [
       "                                 filename  sensitive  \\\n",
       "16      time-rich-city-pattern-land-staff       True   \n",
       "23         south-million-lead-billion-air       True   \n",
       "27   summer-someone-cell-happy-around-red       True   \n",
       "32     role-six-whole-single-enough-think       True   \n",
       "34                necessary-receive-event       True   \n",
       "38         wait-business-must-we-just-yet       True   \n",
       "414                     such-prepare-song       True   \n",
       "415                      take-a-professor       True   \n",
       "420                      themselves-agent       True   \n",
       "\n",
       "                                     name extension  \n",
       "16      time-rich-city-pattern-land-staff     weird  \n",
       "23         south-million-lead-billion-air     weird  \n",
       "27   summer-someone-cell-happy-around-red     weird  \n",
       "32     role-six-whole-single-enough-think     weird  \n",
       "34                necessary-receive-event     weird  \n",
       "38         wait-business-must-we-just-yet     weird  \n",
       "414                     such-prepare-song     weird  \n",
       "415                      take-a-professor     weird  \n",
       "420                      themselves-agent     weird  "
      ]
     },
     "execution_count": 14,
     "metadata": {},
     "output_type": "execute_result"
    }
   ],
   "source": [
    "df_sens"
   ]
  },
  {
   "cell_type": "code",
   "execution_count": 15,
   "metadata": {},
   "outputs": [
    {
     "ename": "NameError",
     "evalue": "name 'text' is not defined",
     "output_type": "error",
     "traceback": [
      "\u001b[0;31m---------------------------------------------------------------------------\u001b[0m",
      "\u001b[0;31mNameError\u001b[0m                                 Traceback (most recent call last)",
      "\u001b[0;32m/tmp/ipykernel_47156/3512193005.py\u001b[0m in \u001b[0;36m<module>\u001b[0;34m\u001b[0m\n\u001b[0;32m----> 1\u001b[0;31m \u001b[0mregex_filter\u001b[0m\u001b[0;34m(\u001b[0m\u001b[0mtext\u001b[0m\u001b[0;34m)\u001b[0m\u001b[0;34m\u001b[0m\u001b[0;34m\u001b[0m\u001b[0m\n\u001b[0m",
      "\u001b[0;31mNameError\u001b[0m: name 'text' is not defined"
     ]
    }
   ],
   "source": [
    "regex_filter(text)"
   ]
  },
  {
   "cell_type": "code",
   "execution_count": 16,
   "metadata": {},
   "outputs": [],
   "source": [
    "FORMAT = \"msg\"\n",
    "\n",
    "df_sens = labels_df[(labels_df[\"extension\"] == FORMAT) & (labels_df[\"sensitive\"] == True)]\n",
    "df_non_sens = labels_df[(labels_df[\"extension\"] == FORMAT) & (labels_df[\"sensitive\"] == False)]"
   ]
  },
  {
   "cell_type": "code",
   "execution_count": 17,
   "metadata": {},
   "outputs": [
    {
     "data": {
      "text/html": [
       "<div>\n",
       "<style scoped>\n",
       "    .dataframe tbody tr th:only-of-type {\n",
       "        vertical-align: middle;\n",
       "    }\n",
       "\n",
       "    .dataframe tbody tr th {\n",
       "        vertical-align: top;\n",
       "    }\n",
       "\n",
       "    .dataframe thead th {\n",
       "        text-align: right;\n",
       "    }\n",
       "</style>\n",
       "<table border=\"1\" class=\"dataframe\">\n",
       "  <thead>\n",
       "    <tr style=\"text-align: right;\">\n",
       "      <th></th>\n",
       "      <th>filename</th>\n",
       "      <th>sensitive</th>\n",
       "      <th>name</th>\n",
       "      <th>extension</th>\n",
       "    </tr>\n",
       "  </thead>\n",
       "  <tbody>\n",
       "    <tr>\n",
       "      <th>4</th>\n",
       "      <td>debitis.msg</td>\n",
       "      <td>True</td>\n",
       "      <td>debitis</td>\n",
       "      <td>msg</td>\n",
       "    </tr>\n",
       "    <tr>\n",
       "      <th>5</th>\n",
       "      <td>incidunt-officia.msg</td>\n",
       "      <td>True</td>\n",
       "      <td>incidunt-officia</td>\n",
       "      <td>msg</td>\n",
       "    </tr>\n",
       "  </tbody>\n",
       "</table>\n",
       "</div>"
      ],
      "text/plain": [
       "               filename  sensitive              name extension\n",
       "4           debitis.msg       True           debitis       msg\n",
       "5  incidunt-officia.msg       True  incidunt-officia       msg"
      ]
     },
     "execution_count": 17,
     "metadata": {},
     "output_type": "execute_result"
    }
   ],
   "source": [
    "df_sens"
   ]
  },
  {
   "cell_type": "code",
   "execution_count": null,
   "metadata": {},
   "outputs": [
    {
     "data": {
      "text/html": [
       "<div>\n",
       "<style scoped>\n",
       "    .dataframe tbody tr th:only-of-type {\n",
       "        vertical-align: middle;\n",
       "    }\n",
       "\n",
       "    .dataframe tbody tr th {\n",
       "        vertical-align: top;\n",
       "    }\n",
       "\n",
       "    .dataframe thead th {\n",
       "        text-align: right;\n",
       "    }\n",
       "</style>\n",
       "<table border=\"1\" class=\"dataframe\">\n",
       "  <thead>\n",
       "    <tr style=\"text-align: right;\">\n",
       "      <th></th>\n",
       "      <th>filename</th>\n",
       "      <th>sensitive</th>\n",
       "      <th>name</th>\n",
       "      <th>extension</th>\n",
       "    </tr>\n",
       "  </thead>\n",
       "  <tbody>\n",
       "    <tr>\n",
       "      <th>665</th>\n",
       "      <td>mollitia-quo-autem.msg</td>\n",
       "      <td>False</td>\n",
       "      <td>mollitia-quo-autem</td>\n",
       "      <td>msg</td>\n",
       "    </tr>\n",
       "    <tr>\n",
       "      <th>666</th>\n",
       "      <td>quaerat-a-quia.msg</td>\n",
       "      <td>False</td>\n",
       "      <td>quaerat-a-quia</td>\n",
       "      <td>msg</td>\n",
       "    </tr>\n",
       "    <tr>\n",
       "      <th>667</th>\n",
       "      <td>vel-fugiat.msg</td>\n",
       "      <td>False</td>\n",
       "      <td>vel-fugiat</td>\n",
       "      <td>msg</td>\n",
       "    </tr>\n",
       "    <tr>\n",
       "      <th>668</th>\n",
       "      <td>dolorum-voluptate.msg</td>\n",
       "      <td>False</td>\n",
       "      <td>dolorum-voluptate</td>\n",
       "      <td>msg</td>\n",
       "    </tr>\n",
       "    <tr>\n",
       "      <th>669</th>\n",
       "      <td>qui-debitis.msg</td>\n",
       "      <td>False</td>\n",
       "      <td>qui-debitis</td>\n",
       "      <td>msg</td>\n",
       "    </tr>\n",
       "  </tbody>\n",
       "</table>\n",
       "</div>"
      ],
      "text/plain": [
       "                   filename  sensitive                name extension\n",
       "665  mollitia-quo-autem.msg      False  mollitia-quo-autem       msg\n",
       "666      quaerat-a-quia.msg      False      quaerat-a-quia       msg\n",
       "667          vel-fugiat.msg      False          vel-fugiat       msg\n",
       "668   dolorum-voluptate.msg      False   dolorum-voluptate       msg\n",
       "669         qui-debitis.msg      False         qui-debitis       msg"
      ]
     },
     "execution_count": 6,
     "metadata": {},
     "output_type": "execute_result"
    }
   ],
   "source": [
    "df_non_sens"
   ]
  },
  {
   "cell_type": "code",
   "execution_count": null,
   "metadata": {},
   "outputs": [],
   "source": [
    "PATTERN_NEWLINE = re.compile(r\"(?:\\r\\n|\\r|\\n)\")\n",
    "PATTERN_WHITESPACE = re.compile(r\"\\s\\s+\")"
   ]
  },
  {
   "cell_type": "code",
   "execution_count": 18,
   "metadata": {},
   "outputs": [],
   "source": [
    "def is_sensitive(filename, detector = None): \n",
    "\n",
    "    msg = None\n",
    "\n",
    "    for encoding in ENCODINGS: \n",
    "        try:\n",
    "            msg = extract_msg.Message(filename, overrideEncoding=encoding)\n",
    "            break\n",
    "        except Exception:\n",
    "            pass\n",
    "\n",
    "    body = (msg.body + msg.subject).lower()\n",
    "    body = re.sub(PATTERN_NEWLINE, \" \", body)\n",
    "    body = re.sub(PATTERN_WHITESPACE, \" \", body)\n",
    "\n",
    "    recipients = [recipient.name for recipient in msg.recipients]\n",
    "\n",
    "    msg.close()\n",
    "\n",
    "    # Check 1: Pair of email and same name in body\n",
    "    for recipient in recipients: \n",
    "        names = recipient.split(\"@\")\n",
    "        if len(names) > 1: \n",
    "            names = names[0].split(\".\")\n",
    "            count = sum([name in body for name in names])\n",
    "\n",
    "            if count > 1: \n",
    "                return True\n",
    "\n",
    "    # Check 2: Check for another clue\n",
    "    clues = np.array(detector.is_sensitive(body))\n",
    "    return clues.sum() > 1"
   ]
  },
  {
   "cell_type": "code",
   "execution_count": 19,
   "metadata": {},
   "outputs": [],
   "source": [
    "detector = SensitiveDataDetector()"
   ]
  },
  {
   "cell_type": "code",
   "execution_count": 20,
   "metadata": {},
   "outputs": [
    {
     "name": "stdout",
     "output_type": "stream",
     "text": [
      "0 0 1 0\n"
     ]
    },
    {
     "data": {
      "text/plain": [
       "0.5"
      ]
     },
     "execution_count": 20,
     "metadata": {},
     "output_type": "execute_result"
    }
   ],
   "source": [
    "np.mean([is_sensitive(\"../files/\" + filename, detector) for filename in df_sens[\"filename\"]])"
   ]
  },
  {
   "cell_type": "code",
   "execution_count": null,
   "metadata": {},
   "outputs": [
    {
     "ename": "TypeError",
     "evalue": "string indices must be integers",
     "output_type": "error",
     "traceback": [
      "\u001b[0;31m---------------------------------------------------------------------------\u001b[0m",
      "\u001b[0;31mTypeError\u001b[0m                                 Traceback (most recent call last)",
      "Cell \u001b[0;32mIn[16], line 1\u001b[0m\n\u001b[0;32m----> 1\u001b[0m recipients \u001b[39m=\u001b[39m json[\u001b[39m\"\u001b[39;49m\u001b[39mto\u001b[39;49m\u001b[39m\"\u001b[39;49m]\n",
      "\u001b[0;31mTypeError\u001b[0m: string indices must be integers"
     ]
    }
   ],
   "source": [
    "recipients = json"
   ]
  }
 ],
 "metadata": {
  "kernelspec": {
   "display_name": "learning",
   "language": "python",
   "name": "python3"
  },
  "language_info": {
   "codemirror_mode": {
    "name": "ipython",
    "version": 3
   },
   "file_extension": ".py",
   "mimetype": "text/x-python",
   "name": "python",
   "nbconvert_exporter": "python",
   "pygments_lexer": "ipython3",
   "version": "3.10.12"
  },
  "orig_nbformat": 4
 },
 "nbformat": 4,
 "nbformat_minor": 2
}
